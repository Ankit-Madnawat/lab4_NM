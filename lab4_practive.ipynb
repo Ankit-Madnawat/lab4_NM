{
 "cells": [
  {
   "cell_type": "code",
   "execution_count": 13,
   "metadata": {},
   "outputs": [
    {
     "name": "stdout",
     "output_type": "stream",
     "text": [
      "\"!\\nversion 15.2\\nservice timestamps debug datetime msec\\nservice timestamps log datetime msec\\n!\\nhostname R1_Madnawat\\n!\\nboot-start-marker\\nboot-end-marker\\n!\\n!\\n!\\nno aaa new-model\\nno ip icmp rate-limit unreachable\\nip cef\\n!\\n!\\n!\\n!\\n!\\n!\\nno ip domain lookup\\nip domain name netman\\nno ipv6 cef\\n!\\n!\\nmultilink bundle-name authenticated\\n!\\n!\\n!\\n!\\n!\\n!\\n!\\nusername ankit privilege 15 password 0 lab\\n!\\n!\\nip tcp synwait-time 5\\n! \\n!\\n!\\n!\\n!\\n!\\n!\\n!\\n!\\n!\\n!\\n!\\ninterface Loopback0\\n ip address 10.0.0.1 255.255.255.255\\n!\\ninterface FastEthernet0/0\\n ip address 198.51.100.1 255.255.255.0\\n duplex full\\n!\\ninterface FastEthernet1/0\\n ip address 198.51.101.1 255.255.255.0\\n speed auto\\n duplex auto\\n!\\ninterface FastEthernet1/1\\n no ip address\\n shutdown\\n speed auto\\n duplex auto\\n!\\ninterface FastEthernet2/0\\n no ip address\\n shutdown\\n speed auto\\n duplex auto\\n!\\ninterface FastEthernet2/1\\n no ip address\\n shutdown\\n speed auto\\n duplex auto\\n!\\ninterface GigabitEthernet3/0\\n no ip address\\n shutdown\\n negotiation auto\\n!\\nip forward-protocol nd\\n!\\n!\\nno ip http server\\nno ip http secure-server\\nip route 172.16.1.0 255.255.255.0 198.51.101.2\\nip route 172.16.1.0 255.255.255.0 198.51.101.4\\n!\\n!\\n!\\n!\\ncontrol-plane\\n!\\n!\\nline con 0\\n exec-timeout 0 0\\n privilege level 15\\n logging synchronous\\n stopbits 1\\nline aux 0\\n exec-timeout 0 0\\n privilege level 15\\n logging synchronous\\n stopbits 1\\nline vty 0 4\\n login local\\n transport input ssh\\n!\\n!\\nend\"\n",
      "\"!\\n\\n!\\nversion 15.2\\nservice timestamps debug datetime msec\\nservice timestamps log datetime msec\\n!\\nhostname R2_Madnawat\\n!\\nboot-start-marker\\nboot-end-marker\\n!\\n!\\n!\\nno aaa new-model\\nno ip icmp rate-limit unreachable\\nip cef\\n!\\n!\\n!\\n!\\n!\\n!\\nno ip domain lookup\\nip domain name netman\\nno ipv6 cef\\n!\\n!\\nmultilink bundle-name authenticated\\n!\\n!\\n!\\n!\\n!\\n!\\n!\\nusername ankit privilege 15 password 0 lab\\n!\\n!\\nip tcp synwait-time 5\\n! \\n!\\n!\\n!\\n!\\n!\\n!\\n!\\n!\\n!\\n!\\n!\\ninterface Loopback0\\n ip address 20.0.0.1 255.255.255.255\\n!\\ninterface FastEthernet0/0\\n ip address 172.16.1.2 255.255.255.0\\n duplex full\\n!\\ninterface FastEthernet1/0\\n ip address 198.51.101.2 255.255.255.0\\n speed auto\\n duplex auto\\n!\\ninterface FastEthernet1/1\\n no ip address\\n shutdown\\n speed auto\\n duplex auto\\n!\\ninterface FastEthernet2/0\\n no ip address\\n shutdown\\n speed auto\\n duplex auto\\n!\\ninterface FastEthernet2/1\\n no ip address\\n shutdown\\n speed auto\\n duplex auto\\n!\\ninterface GigabitEthernet3/0\\n no ip address\\n shutdown\\n negotiation auto\\n!\\nrouter ospf 1\\n!\\nip forward-protocol nd\\n!\\n!\\nno ip http server\\nno ip http secure-server\\nip route 198.51.100.0 255.255.255.0 198.51.101.1\\n!\\n!\\n!\\n!\\ncontrol-plane\\n!\\n!\\nline con 0\\n exec-timeout 0 0\\n privilege level 15\\n logging synchronous\\n stopbits 1\\nline aux 0\\n exec-timeout 0 0\\n privilege level 15\\n logging synchronous\\n stopbits 1\\nline vty 0 4\\n login local\\n transport input ssh\\n!\\n!\\nend\"\n"
     ]
    }
   ],
   "source": [
    "from napalm import get_network_driver\n",
    "import json\n",
    "\n",
    "\n",
    "def config_call():\n",
    "    driver = get_network_driver('ios')\n",
    "    r1 = driver('198.51.100.1', 'ankit', 'lab')\n",
    "    r1.open()\n",
    "    r1_output = r1.get_config()\n",
    "    print(json.dumps(r1_output[\"running\"], indent=4))\n",
    "    \n",
    "    driver = get_network_driver('ios')\n",
    "    r2 = driver('198.51.101.2', 'ankit', 'lab')\n",
    "    r2.open()\n",
    "    r2_output = r2.get_config()\n",
    "    print(json.dumps(r2_output[\"running\"], indent=4))\n",
    "\n",
    "\n",
    "if __name__ == \"__main__\":\n",
    "    config_call()"
   ]
  },
  {
   "cell_type": "code",
   "execution_count": null,
   "metadata": {},
   "outputs": [],
   "source": []
  },
  {
   "cell_type": "code",
   "execution_count": null,
   "metadata": {},
   "outputs": [],
   "source": []
  }
 ],
 "metadata": {
  "kernelspec": {
   "display_name": "Python 3",
   "language": "python",
   "name": "python3"
  },
  "language_info": {
   "codemirror_mode": {
    "name": "ipython",
    "version": 3
   },
   "file_extension": ".py",
   "mimetype": "text/x-python",
   "name": "python",
   "nbconvert_exporter": "python",
   "pygments_lexer": "ipython3",
   "version": "3.6.9"
  }
 },
 "nbformat": 4,
 "nbformat_minor": 4
}
